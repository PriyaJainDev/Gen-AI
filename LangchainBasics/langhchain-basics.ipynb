{
 "cells": [
  {
   "cell_type": "code",
   "execution_count": 1,
   "id": "ce507c9b",
   "metadata": {},
   "outputs": [],
   "source": [
    "import langchain"
   ]
  }
 ],
 "metadata": {
  "kernelspec": {
   "display_name": "Gen-AI",
   "language": "python",
   "name": "python3"
  },
  "language_info": {
   "codemirror_mode": {
    "name": "ipython",
    "version": 3
   },
   "file_extension": ".py",
   "mimetype": "text/x-python",
   "name": "python",
   "nbconvert_exporter": "python",
   "pygments_lexer": "ipython3",
   "version": "3.12.1"
  }
 },
 "nbformat": 4,
 "nbformat_minor": 5
}
